{
 "cells": [
  {
   "cell_type": "markdown",
   "metadata": {},
   "source": [
    "# Cryptocurrency Market Predictor - Recurrent Neural Network\n",
    "\n",
    "Predicting BTCUSD market"
   ]
  },
  {
   "cell_type": "code",
   "execution_count": 1,
   "metadata": {
    "collapsed": true
   },
   "outputs": [],
   "source": [
    "import tensorflow as tf\n",
    "import pandas as pd \n",
    "import numpy as np\n",
    "import matplotlib.pyplot as plt\n",
    "%matplotlib inline"
   ]
  },
  {
   "cell_type": "markdown",
   "metadata": {},
   "source": [
    "## Read data"
   ]
  },
  {
   "cell_type": "code",
   "execution_count": 2,
   "metadata": {},
   "outputs": [
    {
     "data": {
      "text/html": [
       "<div>\n",
       "<style>\n",
       "    .dataframe thead tr:only-child th {\n",
       "        text-align: right;\n",
       "    }\n",
       "\n",
       "    .dataframe thead th {\n",
       "        text-align: left;\n",
       "    }\n",
       "\n",
       "    .dataframe tbody tr th {\n",
       "        vertical-align: top;\n",
       "    }\n",
       "</style>\n",
       "<table border=\"1\" class=\"dataframe\">\n",
       "  <thead>\n",
       "    <tr style=\"text-align: right;\">\n",
       "      <th></th>\n",
       "      <th>Price</th>\n",
       "      <th>PriceTarget</th>\n",
       "      <th>MACD</th>\n",
       "      <th>Stochastics</th>\n",
       "      <th>ATR</th>\n",
       "    </tr>\n",
       "  </thead>\n",
       "  <tbody>\n",
       "    <tr>\n",
       "      <th>0</th>\n",
       "      <td>4.33</td>\n",
       "      <td>4.27</td>\n",
       "      <td>-0.108534</td>\n",
       "      <td>0.0</td>\n",
       "      <td>0.13</td>\n",
       "    </tr>\n",
       "    <tr>\n",
       "      <th>1</th>\n",
       "      <td>4.27</td>\n",
       "      <td>4.41</td>\n",
       "      <td>-0.129960</td>\n",
       "      <td>0.0</td>\n",
       "      <td>0.06</td>\n",
       "    </tr>\n",
       "  </tbody>\n",
       "</table>\n",
       "</div>"
      ],
      "text/plain": [
       "   Price  PriceTarget      MACD  Stochastics   ATR\n",
       "0   4.33         4.27 -0.108534          0.0  0.13\n",
       "1   4.27         4.41 -0.129960          0.0  0.06"
      ]
     },
     "execution_count": 2,
     "metadata": {},
     "output_type": "execute_result"
    }
   ],
   "source": [
    "dataset = pd.read_csv('BTCUSD_TechnicalIndicators.csv')\n",
    "dataset.head(2)"
   ]
  },
  {
   "cell_type": "markdown",
   "metadata": {},
   "source": [
    "#### Normalize"
   ]
  },
  {
   "cell_type": "code",
   "execution_count": 3,
   "metadata": {},
   "outputs": [
    {
     "data": {
      "text/html": [
       "<div>\n",
       "<style>\n",
       "    .dataframe thead tr:only-child th {\n",
       "        text-align: right;\n",
       "    }\n",
       "\n",
       "    .dataframe thead th {\n",
       "        text-align: left;\n",
       "    }\n",
       "\n",
       "    .dataframe tbody tr th {\n",
       "        vertical-align: top;\n",
       "    }\n",
       "</style>\n",
       "<table border=\"1\" class=\"dataframe\">\n",
       "  <thead>\n",
       "    <tr style=\"text-align: right;\">\n",
       "      <th></th>\n",
       "      <th>Price</th>\n",
       "      <th>PriceTarget</th>\n",
       "      <th>MACD</th>\n",
       "      <th>Stochastics</th>\n",
       "      <th>ATR</th>\n",
       "    </tr>\n",
       "  </thead>\n",
       "  <tbody>\n",
       "    <tr>\n",
       "      <th>0</th>\n",
       "      <td>-0.108467</td>\n",
       "      <td>-0.108831</td>\n",
       "      <td>-0.002293</td>\n",
       "      <td>-0.59829</td>\n",
       "      <td>-0.044911</td>\n",
       "    </tr>\n",
       "    <tr>\n",
       "      <th>1</th>\n",
       "      <td>-0.108480</td>\n",
       "      <td>-0.108803</td>\n",
       "      <td>-0.002345</td>\n",
       "      <td>-0.59829</td>\n",
       "      <td>-0.045010</td>\n",
       "    </tr>\n",
       "  </tbody>\n",
       "</table>\n",
       "</div>"
      ],
      "text/plain": [
       "      Price  PriceTarget      MACD  Stochastics       ATR\n",
       "0 -0.108467    -0.108831 -0.002293     -0.59829 -0.044911\n",
       "1 -0.108480    -0.108803 -0.002345     -0.59829 -0.045010"
      ]
     },
     "execution_count": 3,
     "metadata": {},
     "output_type": "execute_result"
    }
   ],
   "source": [
    "datasetNorm = (dataset - dataset.mean()) / (dataset.max() - dataset.min())\n",
    "datasetNorm.head(2)"
   ]
  },
  {
   "cell_type": "markdown",
   "metadata": {},
   "source": [
    "## Hyperparams"
   ]
  },
  {
   "cell_type": "code",
   "execution_count": 4,
   "metadata": {},
   "outputs": [
    {
     "name": "stdout",
     "output_type": "stream",
     "text": [
      "The total series length is: 2018\n",
      "The current configuration gives us 672 batches of 1 observations each one looking 3 steps in the past\n"
     ]
    }
   ],
   "source": [
    "num_epochs = 100\n",
    "\n",
    "batch_size = 1\n",
    "\n",
    "total_series_length = len(dataset.index)\n",
    "\n",
    "truncated_backprop_length = 3 #The size of the sequence\n",
    "\n",
    "state_size = 12 #The number of neurons\n",
    "\n",
    "num_features = 4\n",
    "num_classes = 1 #[1,0]\n",
    "\n",
    "num_batches = total_series_length//batch_size//truncated_backprop_length\n",
    "\n",
    "min_test_size = 100\n",
    "\n",
    "print('The total series length is: %d' %total_series_length)\n",
    "print('The current configuration gives us %d batches of %d observations each one looking %d steps in the past' \n",
    "      %(num_batches,batch_size,truncated_backprop_length))"
   ]
  },
  {
   "cell_type": "markdown",
   "metadata": {},
   "source": [
    "## Train-Test split"
   ]
  },
  {
   "cell_type": "code",
   "execution_count": 5,
   "metadata": {
    "collapsed": true
   },
   "outputs": [],
   "source": [
    "datasetTrain = datasetNorm[dataset.index < num_batches*batch_size*truncated_backprop_length]\n",
    "\n",
    "\n",
    "for i in range(min_test_size,len(datasetNorm.index)):\n",
    "    \n",
    "    if(i % truncated_backprop_length*batch_size == 0):\n",
    "        test_first_idx = len(datasetNorm.index)-i\n",
    "        break\n",
    "\n",
    "datasetTest =  datasetNorm[dataset.index >= test_first_idx]"
   ]
  },
  {
   "cell_type": "code",
   "execution_count": 6,
   "metadata": {},
   "outputs": [
    {
     "data": {
      "text/html": [
       "<div>\n",
       "<style>\n",
       "    .dataframe thead tr:only-child th {\n",
       "        text-align: right;\n",
       "    }\n",
       "\n",
       "    .dataframe thead th {\n",
       "        text-align: left;\n",
       "    }\n",
       "\n",
       "    .dataframe tbody tr th {\n",
       "        vertical-align: top;\n",
       "    }\n",
       "</style>\n",
       "<table border=\"1\" class=\"dataframe\">\n",
       "  <thead>\n",
       "    <tr style=\"text-align: right;\">\n",
       "      <th></th>\n",
       "      <th>Price</th>\n",
       "      <th>PriceTarget</th>\n",
       "      <th>MACD</th>\n",
       "      <th>Stochastics</th>\n",
       "      <th>ATR</th>\n",
       "    </tr>\n",
       "  </thead>\n",
       "  <tbody>\n",
       "    <tr>\n",
       "      <th>0</th>\n",
       "      <td>-0.108467</td>\n",
       "      <td>-0.108831</td>\n",
       "      <td>-0.002293</td>\n",
       "      <td>-0.59829</td>\n",
       "      <td>-0.044911</td>\n",
       "    </tr>\n",
       "    <tr>\n",
       "      <th>1</th>\n",
       "      <td>-0.108480</td>\n",
       "      <td>-0.108803</td>\n",
       "      <td>-0.002345</td>\n",
       "      <td>-0.59829</td>\n",
       "      <td>-0.045010</td>\n",
       "    </tr>\n",
       "  </tbody>\n",
       "</table>\n",
       "</div>"
      ],
      "text/plain": [
       "      Price  PriceTarget      MACD  Stochastics       ATR\n",
       "0 -0.108467    -0.108831 -0.002293     -0.59829 -0.044911\n",
       "1 -0.108480    -0.108803 -0.002345     -0.59829 -0.045010"
      ]
     },
     "execution_count": 6,
     "metadata": {},
     "output_type": "execute_result"
    }
   ],
   "source": [
    "datasetTrain.head(2)"
   ]
  },
  {
   "cell_type": "code",
   "execution_count": 7,
   "metadata": {},
   "outputs": [
    {
     "data": {
      "text/html": [
       "<div>\n",
       "<style>\n",
       "    .dataframe thead tr:only-child th {\n",
       "        text-align: right;\n",
       "    }\n",
       "\n",
       "    .dataframe thead th {\n",
       "        text-align: left;\n",
       "    }\n",
       "\n",
       "    .dataframe tbody tr th {\n",
       "        vertical-align: top;\n",
       "    }\n",
       "</style>\n",
       "<table border=\"1\" class=\"dataframe\">\n",
       "  <thead>\n",
       "    <tr style=\"text-align: right;\">\n",
       "      <th></th>\n",
       "      <th>Price</th>\n",
       "      <th>PriceTarget</th>\n",
       "      <th>MACD</th>\n",
       "      <th>Stochastics</th>\n",
       "      <th>ATR</th>\n",
       "    </tr>\n",
       "  </thead>\n",
       "  <tbody>\n",
       "    <tr>\n",
       "      <th>1916</th>\n",
       "      <td>0.428574</td>\n",
       "      <td>0.470544</td>\n",
       "      <td>0.086009</td>\n",
       "      <td>0.40171</td>\n",
       "      <td>0.176425</td>\n",
       "    </tr>\n",
       "    <tr>\n",
       "      <th>1917</th>\n",
       "      <td>0.470895</td>\n",
       "      <td>0.429535</td>\n",
       "      <td>0.135373</td>\n",
       "      <td>0.40171</td>\n",
       "      <td>0.343795</td>\n",
       "    </tr>\n",
       "  </tbody>\n",
       "</table>\n",
       "</div>"
      ],
      "text/plain": [
       "         Price  PriceTarget      MACD  Stochastics       ATR\n",
       "1916  0.428574     0.470544  0.086009      0.40171  0.176425\n",
       "1917  0.470895     0.429535  0.135373      0.40171  0.343795"
      ]
     },
     "execution_count": 7,
     "metadata": {},
     "output_type": "execute_result"
    }
   ],
   "source": [
    "datasetTest.head(2)"
   ]
  },
  {
   "cell_type": "code",
   "execution_count": 8,
   "metadata": {
    "collapsed": true
   },
   "outputs": [],
   "source": [
    "xTrain = datasetTrain[['Price','MACD','Stochastics','ATR']].as_matrix()\n",
    "yTrain = datasetTrain['PriceTarget'].as_matrix()"
   ]
  },
  {
   "cell_type": "code",
   "execution_count": 9,
   "metadata": {},
   "outputs": [
    {
     "name": "stdout",
     "output_type": "stream",
     "text": [
      "[[-0.10846741 -0.00229342 -0.59829008 -0.0449111 ]\n",
      " [-0.10847965 -0.0023445  -0.59829008 -0.04500955]\n",
      " [-0.10845109 -0.00234725 -0.51292423 -0.04489703]] \n",
      " [-0.10883111 -0.10880255 -0.10884132]\n"
     ]
    }
   ],
   "source": [
    "print(xTrain[0:3],'\\n',yTrain[0:3])"
   ]
  },
  {
   "cell_type": "code",
   "execution_count": 10,
   "metadata": {
    "collapsed": true
   },
   "outputs": [],
   "source": [
    "xTest = datasetTest[['Price','MACD','Stochastics','ATR']].as_matrix()\n",
    "yTest = datasetTest['PriceTarget'].as_matrix()"
   ]
  },
  {
   "cell_type": "code",
   "execution_count": 11,
   "metadata": {},
   "outputs": [
    {
     "name": "stdout",
     "output_type": "stream",
     "text": [
      "[[ 0.42857439  0.08600864  0.40170992  0.17642505]\n",
      " [ 0.47089504  0.13537317  0.40170992  0.34379495]\n",
      " [ 0.42988645  0.12731495  0.17105457  0.30624221]] \n",
      " [ 0.47054359  0.42953499  0.45799431]\n"
     ]
    }
   ],
   "source": [
    "print(xTest[0:3],'\\n',yTest[0:3])"
   ]
  },
  {
   "cell_type": "markdown",
   "metadata": {},
   "source": [
    "## Visualize starting price data"
   ]
  },
  {
   "cell_type": "code",
   "execution_count": 12,
   "metadata": {},
   "outputs": [
    {
     "data": {
      "image/png": "[encoded data removed]",
      "text/plain": [
       "<matplotlib.figure.Figure at 0x21ca311ecf8>"
      ]
     },
     "metadata": {},
     "output_type": "display_data"
    },
    {
     "data": {
      "image/png": "[encoded data removed]",
      "text/plain": [
       "<matplotlib.figure.Figure at 0x21c9bca62b0>"
      ]
     },
     "metadata": {},
     "output_type": "display_data"
    }
   ],
   "source": [
    "plt.figure(figsize=(25,5))\n",
    "plt.plot(xTrain[:,0])\n",
    "plt.title('Train (' +str(len(xTrain))+' data points)')\n",
    "plt.show()\n",
    "plt.figure(figsize=(10,3))\n",
    "plt.plot(xTest[:,0])\n",
    "plt.title('Test (' +str(len(xTest))+' data points)')\n",
    "plt.show()"
   ]
  },
  {
   "cell_type": "markdown",
   "metadata": {},
   "source": [
    "## Placeholders"
   ]
  },
  {
   "cell_type": "code",
   "execution_count": 13,
   "metadata": {
    "collapsed": true
   },
   "outputs": [],
   "source": [
    "batchX_placeholder = tf.placeholder(dtype=tf.float32,shape=[None,truncated_backprop_length,num_features],name='data_ph')\n",
    "batchY_placeholder = tf.placeholder(dtype=tf.float32,shape=[None,truncated_backprop_length,num_classes],name='target_ph')"
   ]
  },
  {
   "cell_type": "markdown",
   "metadata": {},
   "source": [
    "## Weights and biases\n",
    "Because is a 3 layer net:\n",
    "1. Input\n",
    "2. Hidden Recurrent layer\n",
    "3. Output\n",
    "\n",
    "We need 2 pairs of W and b"
   ]
  },
  {
   "cell_type": "code",
   "execution_count": 14,
   "metadata": {
    "collapsed": true
   },
   "outputs": [],
   "source": [
    "W2 = tf.Variable(initial_value=np.random.rand(state_size,num_classes),dtype=tf.float32)\n",
    "b2 = tf.Variable(initial_value=np.random.rand(1,num_classes),dtype=tf.float32)"
   ]
  },
  {
   "cell_type": "markdown",
   "metadata": {},
   "source": [
    "Unpack"
   ]
  },
  {
   "cell_type": "code",
   "execution_count": 15,
   "metadata": {
    "collapsed": true
   },
   "outputs": [],
   "source": [
    "labels_series = tf.unstack(batchY_placeholder, axis=1)"
   ]
  },
  {
   "cell_type": "markdown",
   "metadata": {},
   "source": [
    "## Forward pass - Unroll the cell\n",
    "\n",
    "Input to recurrent"
   ]
  },
  {
   "cell_type": "code",
   "execution_count": 16,
   "metadata": {
    "collapsed": true
   },
   "outputs": [],
   "source": [
    "cell = tf.contrib.rnn.BasicRNNCell(num_units=state_size)\n",
    "\n",
    "states_series, current_state = tf.nn.dynamic_rnn(cell=cell,inputs=batchX_placeholder,dtype=tf.float32)"
   ]
  },
  {
   "cell_type": "code",
   "execution_count": 17,
   "metadata": {
    "collapsed": true
   },
   "outputs": [],
   "source": [
    "states_series = tf.transpose(states_series,[1,0,2])"
   ]
  },
  {
   "cell_type": "markdown",
   "metadata": {},
   "source": [
    "## Backward pass - Output"
   ]
  },
  {
   "cell_type": "code",
   "execution_count": 18,
   "metadata": {
    "collapsed": true
   },
   "outputs": [],
   "source": [
    "last_state = tf.gather(params=states_series,indices=states_series.get_shape()[0]-1)\n",
    "last_label = tf.gather(params=labels_series,indices=len(labels_series)-1)"
   ]
  },
  {
   "cell_type": "markdown",
   "metadata": {},
   "source": [
    "## Weights and bias out"
   ]
  },
  {
   "cell_type": "code",
   "execution_count": 19,
   "metadata": {
    "collapsed": true
   },
   "outputs": [],
   "source": [
    "weight = tf.Variable(tf.truncated_normal([state_size,num_classes]))\n",
    "bias = tf.Variable(tf.constant(0.1,shape=[num_classes]))"
   ]
  },
  {
   "cell_type": "markdown",
   "metadata": {},
   "source": [
    "## Prediction, Loss & Optimizer"
   ]
  },
  {
   "cell_type": "code",
   "execution_count": 20,
   "metadata": {},
   "outputs": [
    {
     "data": {
      "text/plain": [
       "<tf.Tensor 'add:0' shape=(?, 1) dtype=float32>"
      ]
     },
     "execution_count": 20,
     "metadata": {},
     "output_type": "execute_result"
    }
   ],
   "source": [
    "prediction = tf.matmul(last_state,weight) + bias\n",
    "prediction"
   ]
  },
  {
   "cell_type": "code",
   "execution_count": 21,
   "metadata": {},
   "outputs": [
    {
     "name": "stderr",
     "output_type": "stream",
     "text": [
      "C:\\ProgramData\\Anaconda3\\lib\\site-packages\\tensorflow\\python\\ops\\gradients_impl.py:93: UserWarning: Converting sparse IndexedSlices to a dense Tensor of unknown shape. This may consume a large amount of memory.\n",
      "  \"Converting sparse IndexedSlices to a dense Tensor of unknown shape. \"\n"
     ]
    }
   ],
   "source": [
    "loss = tf.reduce_mean(tf.squared_difference(last_label,prediction))\n",
    "\n",
    "train_step = tf.train.AdamOptimizer(learning_rate=0.001).minimize(loss)"
   ]
  },
  {
   "cell_type": "code",
   "execution_count": 22,
   "metadata": {},
   "outputs": [
    {
     "name": "stdout",
     "output_type": "stream",
     "text": [
      "Epoch 0\n",
      "Step 0 - Loss: 0.000820\n",
      "Step 200 - Loss: 0.000248\n",
      "Step 400 - Loss: 0.000031\n",
      "Step 600 - Loss: 0.003531\n",
      "Epoch 1\n",
      "Step 0 - Loss: 0.033682\n",
      "Step 200 - Loss: 0.000025\n",
      "Step 400 - Loss: 0.000011\n",
      "Step 600 - Loss: 0.001539\n",
      "Epoch 2\n",
      "Step 0 - Loss: 0.016179\n",
      "Step 200 - Loss: 0.000001\n",
      "Step 400 - Loss: 0.000022\n",
      "Step 600 - Loss: 0.001491\n",
      "Epoch 3\n",
      "Step 0 - Loss: 0.006101\n",
      "Step 200 - Loss: 0.000001\n",
      "Step 400 - Loss: 0.000004\n",
      "Step 600 - Loss: 0.000233\n",
      "Epoch 4\n",
      "Step 0 - Loss: 0.000047\n",
      "Step 200 - Loss: 0.000000\n",
      "Step 400 - Loss: 0.000059\n",
      "Step 600 - Loss: 0.000139\n",
      "Epoch 5\n",
      "Step 0 - Loss: 0.001707\n",
      "Step 200 - Loss: 0.000003\n",
      "Step 400 - Loss: 0.000004\n",
      "Step 600 - Loss: 0.000042\n",
      "Epoch 6\n",
      "Step 0 - Loss: 0.001085\n",
      "Step 200 - Loss: 0.000001\n",
      "Step 400 - Loss: 0.000023\n",
      "Step 600 - Loss: 0.000947\n",
      "Epoch 7\n",
      "Step 0 - Loss: 0.000153\n",
      "Step 200 - Loss: 0.000030\n",
      "Step 400 - Loss: 0.000018\n",
      "Step 600 - Loss: 0.000000\n",
      "Epoch 8\n",
      "Step 0 - Loss: 0.000195\n",
      "Step 200 - Loss: 0.000004\n",
      "Step 400 - Loss: 0.000002\n",
      "Step 600 - Loss: 0.000554\n",
      "Epoch 9\n",
      "Step 0 - Loss: 0.001219\n",
      "Step 200 - Loss: 0.000004\n",
      "Step 400 - Loss: 0.000000\n",
      "Step 600 - Loss: 0.000442\n",
      "Epoch 10\n",
      "Step 0 - Loss: 0.000847\n",
      "Step 200 - Loss: 0.000010\n",
      "Step 400 - Loss: 0.000002\n",
      "Step 600 - Loss: 0.000214\n",
      "Epoch 11\n",
      "Step 0 - Loss: 0.000365\n",
      "Step 200 - Loss: 0.000046\n",
      "Step 400 - Loss: 0.000017\n",
      "Step 600 - Loss: 0.000089\n",
      "Epoch 12\n",
      "Step 0 - Loss: 0.000073\n",
      "Step 200 - Loss: 0.000039\n",
      "Step 400 - Loss: 0.000088\n",
      "Step 600 - Loss: 0.000028\n",
      "Epoch 13\n",
      "Step 0 - Loss: 0.000002\n",
      "Step 200 - Loss: 0.000010\n",
      "Step 400 - Loss: 0.000236\n",
      "Step 600 - Loss: 0.000002\n",
      "Epoch 14\n",
      "Step 0 - Loss: 0.000038\n",
      "Step 200 - Loss: 0.000013\n",
      "Step 400 - Loss: 0.000080\n",
      "Step 600 - Loss: 0.000054\n",
      "Epoch 15\n",
      "Step 0 - Loss: 0.000002\n",
      "Step 200 - Loss: 0.000000\n",
      "Step 400 - Loss: 0.000083\n",
      "Step 600 - Loss: 0.000030\n",
      "Epoch 16\n",
      "Step 0 - Loss: 0.000099\n",
      "Step 200 - Loss: 0.000069\n",
      "Step 400 - Loss: 0.000008\n",
      "Step 600 - Loss: 0.000159\n",
      "Epoch 17\n",
      "Step 0 - Loss: 0.000001\n",
      "Step 200 - Loss: 0.000000\n",
      "Step 400 - Loss: 0.000011\n",
      "Step 600 - Loss: 0.000042\n",
      "Epoch 18\n",
      "Step 0 - Loss: 0.000039\n",
      "Step 200 - Loss: 0.000022\n",
      "Step 400 - Loss: 0.000002\n",
      "Step 600 - Loss: 0.000160\n",
      "Epoch 19\n",
      "Step 0 - Loss: 0.000020\n",
      "Step 200 - Loss: 0.000000\n",
      "Step 400 - Loss: 0.000030\n",
      "Step 600 - Loss: 0.000047\n",
      "Epoch 20\n",
      "Step 0 - Loss: 0.000088\n",
      "Step 200 - Loss: 0.000004\n",
      "Step 400 - Loss: 0.000017\n",
      "Step 600 - Loss: 0.000032\n",
      "Epoch 21\n",
      "Step 0 - Loss: 0.000091\n",
      "Step 200 - Loss: 0.000007\n",
      "Step 400 - Loss: 0.000095\n",
      "Step 600 - Loss: 0.000008\n",
      "Epoch 22\n",
      "Step 0 - Loss: 0.000002\n",
      "Step 200 - Loss: 0.000039\n",
      "Step 400 - Loss: 0.000003\n",
      "Step 600 - Loss: 0.000040\n",
      "Epoch 23\n",
      "Step 0 - Loss: 0.000010\n",
      "Step 200 - Loss: 0.000000\n",
      "Step 400 - Loss: 0.000019\n",
      "Step 600 - Loss: 0.000002\n",
      "Epoch 24\n",
      "Step 0 - Loss: 0.000006\n",
      "Step 200 - Loss: 0.000001\n",
      "Step 400 - Loss: 0.000001\n",
      "Step 600 - Loss: 0.000070\n",
      "Epoch 25\n",
      "Step 0 - Loss: 0.000094\n",
      "Step 200 - Loss: 0.000006\n",
      "Step 400 - Loss: 0.000017\n",
      "Step 600 - Loss: 0.000041\n",
      "Epoch 26\n",
      "Step 0 - Loss: 0.000023\n",
      "Step 200 - Loss: 0.000021\n",
      "Step 400 - Loss: 0.000053\n",
      "Step 600 - Loss: 0.000015\n",
      "Epoch 27\n",
      "Step 0 - Loss: 0.000008\n",
      "Step 200 - Loss: 0.000023\n",
      "Step 400 - Loss: 0.000099\n",
      "Step 600 - Loss: 0.000001\n",
      "Epoch 28\n",
      "Step 0 - Loss: 0.000000\n",
      "Step 200 - Loss: 0.000026\n",
      "Step 400 - Loss: 0.000082\n",
      "Step 600 - Loss: 0.000000\n",
      "Epoch 29\n",
      "Step 0 - Loss: 0.000000\n",
      "Step 200 - Loss: 0.000016\n",
      "Step 400 - Loss: 0.000118\n",
      "Step 600 - Loss: 0.000001\n",
      "Epoch 30\n",
      "Step 0 - Loss: 0.000008\n",
      "Step 200 - Loss: 0.000038\n",
      "Step 400 - Loss: 0.000016\n",
      "Step 600 - Loss: 0.000001\n",
      "Epoch 31\n",
      "Step 0 - Loss: 0.000091\n",
      "Step 200 - Loss: 0.000003\n",
      "Step 400 - Loss: 0.000078\n",
      "Step 600 - Loss: 0.000000\n",
      "Epoch 32\n",
      "Step 0 - Loss: 0.000045\n",
      "Step 200 - Loss: 0.000071\n",
      "Step 400 - Loss: 0.000001\n",
      "Step 600 - Loss: 0.000016\n",
      "Epoch 33\n",
      "Step 0 - Loss: 0.001103\n",
      "Step 200 - Loss: 0.000003\n",
      "Step 400 - Loss: 0.000027\n",
      "Step 600 - Loss: 0.000006\n",
      "Epoch 34\n",
      "Step 0 - Loss: 0.000628\n",
      "Step 200 - Loss: 0.000038\n",
      "Step 400 - Loss: 0.000004\n",
      "Step 600 - Loss: 0.000014\n",
      "Epoch 35\n",
      "Step 0 - Loss: 0.002443\n",
      "Step 200 - Loss: 0.000007\n",
      "Step 400 - Loss: 0.000037\n",
      "Step 600 - Loss: 0.000001\n",
      "Epoch 36\n",
      "Step 0 - Loss: 0.001208\n",
      "Step 200 - Loss: 0.000032\n",
      "Step 400 - Loss: 0.000011\n",
      "Step 600 - Loss: 0.000010\n",
      "Epoch 37\n",
      "Step 0 - Loss: 0.003078\n",
      "Step 200 - Loss: 0.000010\n",
      "Step 400 - Loss: 0.000012\n",
      "Step 600 - Loss: 0.000000\n",
      "Epoch 38\n",
      "Step 0 - Loss: 0.001293\n",
      "Step 200 - Loss: 0.000013\n",
      "Step 400 - Loss: 0.000003\n",
      "Step 600 - Loss: 0.000004\n",
      "Epoch 39\n",
      "Step 0 - Loss: 0.001668\n",
      "Step 200 - Loss: 0.000008\n",
      "Step 400 - Loss: 0.000000\n",
      "Step 600 - Loss: 0.000001\n",
      "Epoch 40\n",
      "Step 0 - Loss: 0.000898\n",
      "Step 200 - Loss: 0.000010\n",
      "Step 400 - Loss: 0.000002\n",
      "Step 600 - Loss: 0.000003\n",
      "Epoch 41\n",
      "Step 0 - Loss: 0.000988\n",
      "Step 200 - Loss: 0.000007\n",
      "Step 400 - Loss: 0.000003\n",
      "Step 600 - Loss: 0.000004\n",
      "Epoch 42\n",
      "Step 0 - Loss: 0.000714\n",
      "Step 200 - Loss: 0.000007\n",
      "Step 400 - Loss: 0.000001\n",
      "Step 600 - Loss: 0.000005\n",
      "Epoch 43\n",
      "Step 0 - Loss: 0.000768\n",
      "Step 200 - Loss: 0.000007\n",
      "Step 400 - Loss: 0.000001\n",
      "Step 600 - Loss: 0.000005\n",
      "Epoch 44\n",
      "Step 0 - Loss: 0.000860\n",
      "Step 200 - Loss: 0.000007\n",
      "Step 400 - Loss: 0.000000\n",
      "Step 600 - Loss: 0.000007\n",
      "Epoch 45\n",
      "Step 0 - Loss: 0.001083\n",
      "Step 200 - Loss: 0.000007\n",
      "Step 400 - Loss: 0.000001\n",
      "Step 600 - Loss: 0.000009\n",
      "Epoch 46\n",
      "Step 0 - Loss: 0.001286\n",
      "Step 200 - Loss: 0.000007\n",
      "Step 400 - Loss: 0.000003\n",
      "Step 600 - Loss: 0.000011\n",
      "Epoch 47\n",
      "Step 0 - Loss: 0.001460\n",
      "Step 200 - Loss: 0.000007\n",
      "Step 400 - Loss: 0.000006\n",
      "Step 600 - Loss: 0.000011\n",
      "Epoch 48\n",
      "Step 0 - Loss: 0.001568\n",
      "Step 200 - Loss: 0.000006\n",
      "Step 400 - Loss: 0.000010\n",
      "Step 600 - Loss: 0.000011\n",
      "Epoch 49\n",
      "Step 0 - Loss: 0.001574\n",
      "Step 200 - Loss: 0.000006\n",
      "Step 400 - Loss: 0.000014\n",
      "Step 600 - Loss: 0.000010\n",
      "Epoch 50\n",
      "Step 0 - Loss: 0.001540\n",
      "Step 200 - Loss: 0.000005\n",
      "Step 400 - Loss: 0.000018\n",
      "Step 600 - Loss: 0.000011\n",
      "Epoch 51\n",
      "Step 0 - Loss: 0.001470\n",
      "Step 200 - Loss: 0.000004\n",
      "Step 400 - Loss: 0.000020\n",
      "Step 600 - Loss: 0.000013\n",
      "Epoch 52\n",
      "Step 0 - Loss: 0.001275\n",
      "Step 200 - Loss: 0.000003\n",
      "Step 400 - Loss: 0.000019\n",
      "Step 600 - Loss: 0.000016\n",
      "Epoch 53\n",
      "Step 0 - Loss: 0.001080\n",
      "Step 200 - Loss: 0.000002\n",
      "Step 400 - Loss: 0.000018\n",
      "Step 600 - Loss: 0.000019\n",
      "Epoch 54\n",
      "Step 0 - Loss: 0.000957\n",
      "Step 200 - Loss: 0.000002\n",
      "Step 400 - Loss: 0.000016\n",
      "Step 600 - Loss: 0.000021\n",
      "Epoch 55\n",
      "Step 0 - Loss: 0.000901\n",
      "Step 200 - Loss: 0.000002\n",
      "Step 400 - Loss: 0.000014\n",
      "Step 600 - Loss: 0.000021\n",
      "Epoch 56\n",
      "Step 0 - Loss: 0.000925\n",
      "Step 200 - Loss: 0.000002\n",
      "Step 400 - Loss: 0.000014\n",
      "Step 600 - Loss: 0.000022\n",
      "Epoch 57\n",
      "Step 0 - Loss: 0.000998\n",
      "Step 200 - Loss: 0.000002\n",
      "Step 400 - Loss: 0.000014\n",
      "Step 600 - Loss: 0.000023\n",
      "Epoch 58\n",
      "Step 0 - Loss: 0.001085\n",
      "Step 200 - Loss: 0.000001\n",
      "Step 400 - Loss: 0.000015\n",
      "Step 600 - Loss: 0.000025\n",
      "Epoch 59\n",
      "Step 0 - Loss: 0.001165\n",
      "Step 200 - Loss: 0.000001\n",
      "Step 400 - Loss: 0.000017\n",
      "Step 600 - Loss: 0.000027\n",
      "Epoch 60\n",
      "Step 0 - Loss: 0.001229\n",
      "Step 200 - Loss: 0.000001\n",
      "Step 400 - Loss: 0.000018\n",
      "Step 600 - Loss: 0.000029\n",
      "Epoch 61\n",
      "Step 0 - Loss: 0.001278\n",
      "Step 200 - Loss: 0.000001\n",
      "Step 400 - Loss: 0.000020\n",
      "Step 600 - Loss: 0.000032\n",
      "Epoch 62\n",
      "Step 0 - Loss: 0.001335\n",
      "Step 200 - Loss: 0.000000\n",
      "Step 400 - Loss: 0.000021\n",
      "Step 600 - Loss: 0.000034\n",
      "Epoch 63\n",
      "Step 0 - Loss: 0.001410\n",
      "Step 200 - Loss: 0.000000\n",
      "Step 400 - Loss: 0.000023\n",
      "Step 600 - Loss: 0.000037\n",
      "Epoch 64\n",
      "Step 0 - Loss: 0.001475\n",
      "Step 200 - Loss: 0.000000\n",
      "Step 400 - Loss: 0.000025\n",
      "Step 600 - Loss: 0.000039\n",
      "Epoch 65\n",
      "Step 0 - Loss: 0.001530\n",
      "Step 200 - Loss: 0.000000\n",
      "Step 400 - Loss: 0.000030\n",
      "Step 600 - Loss: 0.000036\n",
      "Epoch 66\n",
      "Step 0 - Loss: 0.001709\n",
      "Step 200 - Loss: 0.000000\n",
      "Step 400 - Loss: 0.000029\n",
      "Step 600 - Loss: 0.000040\n",
      "Epoch 67\n",
      "Step 0 - Loss: 0.001683\n",
      "Step 200 - Loss: 0.000000\n",
      "Step 400 - Loss: 0.000029\n",
      "Step 600 - Loss: 0.000044\n",
      "Epoch 68\n",
      "Step 0 - Loss: 0.001567\n",
      "Step 200 - Loss: 0.000000\n",
      "Step 400 - Loss: 0.000033\n",
      "Step 600 - Loss: 0.000053\n",
      "Epoch 69\n",
      "Step 0 - Loss: 0.001485\n",
      "Step 200 - Loss: 0.000000\n",
      "Step 400 - Loss: 0.000030\n",
      "Step 600 - Loss: 0.000052\n",
      "Epoch 70\n",
      "Step 0 - Loss: 0.001219\n",
      "Step 200 - Loss: 0.000000\n",
      "Step 400 - Loss: 0.000023\n",
      "Step 600 - Loss: 0.000044\n",
      "Epoch 71\n",
      "Step 0 - Loss: 0.000683\n",
      "Step 200 - Loss: 0.000000\n",
      "Step 400 - Loss: 0.000026\n",
      "Step 600 - Loss: 0.000043\n",
      "Epoch 72\n",
      "Step 0 - Loss: 0.000842\n",
      "Step 200 - Loss: 0.000000\n",
      "Step 400 - Loss: 0.000030\n",
      "Step 600 - Loss: 0.000051\n",
      "Epoch 73\n",
      "Step 0 - Loss: 0.000914\n",
      "Step 200 - Loss: 0.000000\n",
      "Step 400 - Loss: 0.000026\n",
      "Step 600 - Loss: 0.000044\n"
     ]
    },
    {
     "name": "stdout",
     "output_type": "stream",
     "text": [
      "Epoch 74\n",
      "Step 0 - Loss: 0.000860\n",
      "Step 200 - Loss: 0.000000\n",
      "Step 400 - Loss: 0.000026\n",
      "Step 600 - Loss: 0.000041\n",
      "Epoch 75\n",
      "Step 0 - Loss: 0.000861\n",
      "Step 200 - Loss: 0.000000\n",
      "Step 400 - Loss: 0.000032\n",
      "Step 600 - Loss: 0.000054\n",
      "Epoch 76\n",
      "Step 0 - Loss: 0.000962\n",
      "Step 200 - Loss: 0.000000\n",
      "Step 400 - Loss: 0.000032\n",
      "Step 600 - Loss: 0.000054\n",
      "Epoch 77\n",
      "Step 0 - Loss: 0.000988\n",
      "Step 200 - Loss: 0.000001\n",
      "Step 400 - Loss: 0.000023\n",
      "Step 600 - Loss: 0.000046\n",
      "Epoch 78\n",
      "Step 0 - Loss: 0.000522\n",
      "Step 200 - Loss: 0.000000\n",
      "Step 400 - Loss: 0.000026\n",
      "Step 600 - Loss: 0.000035\n",
      "Epoch 79\n",
      "Step 0 - Loss: 0.000618\n",
      "Step 200 - Loss: 0.000000\n",
      "Step 400 - Loss: 0.000031\n",
      "Step 600 - Loss: 0.000050\n",
      "Epoch 80\n",
      "Step 0 - Loss: 0.000730\n",
      "Step 200 - Loss: 0.000000\n",
      "Step 400 - Loss: 0.000032\n",
      "Step 600 - Loss: 0.000047\n",
      "Epoch 81\n",
      "Step 0 - Loss: 0.000918\n",
      "Step 200 - Loss: 0.000001\n",
      "Step 400 - Loss: 0.000023\n",
      "Step 600 - Loss: 0.000037\n",
      "Epoch 82\n",
      "Step 0 - Loss: 0.000359\n",
      "Step 200 - Loss: 0.000000\n",
      "Step 400 - Loss: 0.000028\n",
      "Step 600 - Loss: 0.000033\n",
      "Epoch 83\n",
      "Step 0 - Loss: 0.000583\n",
      "Step 200 - Loss: 0.000000\n",
      "Step 400 - Loss: 0.000033\n",
      "Step 600 - Loss: 0.000044\n",
      "Epoch 84\n",
      "Step 0 - Loss: 0.000767\n",
      "Step 200 - Loss: 0.000000\n",
      "Step 400 - Loss: 0.000029\n",
      "Step 600 - Loss: 0.000040\n",
      "Epoch 85\n",
      "Step 0 - Loss: 0.000614\n",
      "Step 200 - Loss: 0.000000\n",
      "Step 400 - Loss: 0.000022\n",
      "Step 600 - Loss: 0.000028\n",
      "Epoch 86\n",
      "Step 0 - Loss: 0.000377\n",
      "Step 200 - Loss: 0.000000\n",
      "Step 400 - Loss: 0.000037\n",
      "Step 600 - Loss: 0.000031\n",
      "Epoch 87\n",
      "Step 0 - Loss: 0.000478\n",
      "Step 200 - Loss: 0.000000\n",
      "Step 400 - Loss: 0.000032\n",
      "Step 600 - Loss: 0.000043\n",
      "Epoch 88\n",
      "Step 0 - Loss: 0.000876\n",
      "Step 200 - Loss: 0.000000\n",
      "Step 400 - Loss: 0.000017\n",
      "Step 600 - Loss: 0.000030\n",
      "Epoch 89\n",
      "Step 0 - Loss: 0.000057\n",
      "Step 200 - Loss: 0.000000\n",
      "Step 400 - Loss: 0.000025\n",
      "Step 600 - Loss: 0.000016\n",
      "Epoch 90\n",
      "Step 0 - Loss: 0.000524\n",
      "Step 200 - Loss: 0.000000\n",
      "Step 400 - Loss: 0.000034\n",
      "Step 600 - Loss: 0.000021\n",
      "Epoch 91\n",
      "Step 0 - Loss: 0.000842\n",
      "Step 200 - Loss: 0.000001\n",
      "Step 400 - Loss: 0.000025\n",
      "Step 600 - Loss: 0.000034\n",
      "Epoch 92\n",
      "Step 0 - Loss: 0.000502\n",
      "Step 200 - Loss: 0.000000\n",
      "Step 400 - Loss: 0.000019\n",
      "Step 600 - Loss: 0.000017\n",
      "Epoch 93\n",
      "Step 0 - Loss: 0.000216\n",
      "Step 200 - Loss: 0.000000\n",
      "Step 400 - Loss: 0.000034\n",
      "Step 600 - Loss: 0.000014\n",
      "Epoch 94\n",
      "Step 0 - Loss: 0.000568\n",
      "Step 200 - Loss: 0.000000\n",
      "Step 400 - Loss: 0.000032\n",
      "Step 600 - Loss: 0.000026\n",
      "Epoch 95\n",
      "Step 0 - Loss: 0.001048\n",
      "Step 200 - Loss: 0.000000\n",
      "Step 400 - Loss: 0.000019\n",
      "Step 600 - Loss: 0.000022\n",
      "Epoch 96\n",
      "Step 0 - Loss: 0.000241\n",
      "Step 200 - Loss: 0.000000\n",
      "Step 400 - Loss: 0.000026\n",
      "Step 600 - Loss: 0.000009\n",
      "Epoch 97\n",
      "Step 0 - Loss: 0.000627\n",
      "Step 200 - Loss: 0.000000\n",
      "Step 400 - Loss: 0.000031\n",
      "Step 600 - Loss: 0.000011\n",
      "Epoch 98\n",
      "Step 0 - Loss: 0.001358\n",
      "Step 200 - Loss: 0.000000\n",
      "Step 400 - Loss: 0.000031\n",
      "Step 600 - Loss: 0.000021\n",
      "Epoch 99\n",
      "Step 0 - Loss: 0.000852\n",
      "Step 200 - Loss: 0.000002\n",
      "Step 400 - Loss: 0.000023\n",
      "Step 600 - Loss: 0.000019\n"
     ]
    }
   ],
   "source": [
    "loss_list = []\n",
    "test_pred_list = []\n",
    "\n",
    "with tf.Session() as sess:\n",
    "    \n",
    "    tf.global_variables_initializer().run()\n",
    "    \n",
    "    for epoch_idx in range(num_epochs):\n",
    "                \n",
    "        print('Epoch %d' %epoch_idx)\n",
    "        \n",
    "        for batch_idx in range(num_batches):\n",
    "            start_idx = batch_idx * truncated_backprop_length\n",
    "            end_idx = start_idx + truncated_backprop_length * batch_size\n",
    "        \n",
    "            \n",
    "            batchX = xTrain[start_idx:end_idx,:].reshape(batch_size,truncated_backprop_length,num_features)\n",
    "            batchY = yTrain[start_idx:end_idx].reshape(batch_size,truncated_backprop_length,1)\n",
    "                \n",
    "            #print('IDXs',start_idx,end_idx)\n",
    "            #print('X',batchX.shape,batchX)\n",
    "            #print('Y',batchX.shape,batchY)\n",
    "            \n",
    "            feed = {batchX_placeholder : batchX, batchY_placeholder : batchY}\n",
    "            \n",
    "            #TRAIN!\n",
    "            _loss,_train_step,_pred,_last_label,_prediction = sess.run(\n",
    "                fetches=[loss,train_step,prediction,last_label,prediction],\n",
    "                feed_dict = feed\n",
    "            )\n",
    "            \n",
    "            loss_list.append(_loss)\n",
    "            \n",
    "           \n",
    "            \n",
    "            if(batch_idx % 200 == 0):\n",
    "                print('Step %d - Loss: %.6f' %(batch_idx,_loss))\n",
    "                \n",
    "    #TEST\n",
    "    \n",
    "    \n",
    "    for test_idx in range(len(xTest) - truncated_backprop_length):\n",
    "        \n",
    "        testBatchX = xTest[test_idx:test_idx+truncated_backprop_length,:].reshape((1,truncated_backprop_length,num_features))        \n",
    "        testBatchY = yTest[test_idx:test_idx+truncated_backprop_length].reshape((1,truncated_backprop_length,1))\n",
    "\n",
    "        \n",
    "        #_current_state = np.zeros((batch_size,state_size))\n",
    "        feed = {batchX_placeholder : testBatchX,\n",
    "            batchY_placeholder : testBatchY}\n",
    "\n",
    "        #Test_pred contains 'window_size' predictions, we want the last one\n",
    "        _last_state,_last_label,test_pred = sess.run([last_state,last_label,prediction],feed_dict=feed)\n",
    "        test_pred_list.append(test_pred[-1][-1]) #The last one"
   ]
  },
  {
   "cell_type": "code",
   "execution_count": 23,
   "metadata": {},
   "outputs": [
    {
     "data": {
      "image/png": "[encoded data removed]",
      "text/plain": [
       "<matplotlib.figure.Figure at 0x21ca30a7860>"
      ]
     },
     "metadata": {},
     "output_type": "display_data"
    }
   ],
   "source": [
    "import matplotlib.pyplot as plt\n",
    "%matplotlib inline\n",
    "plt.title('Loss')\n",
    "plt.scatter(x=np.arange(0,len(loss_list)),y=loss_list)\n",
    "plt.xlabel('epochs')\n",
    "plt.ylabel('loss')\n",
    "plt.show();"
   ]
  },
  {
   "cell_type": "code",
   "execution_count": 24,
   "metadata": {},
   "outputs": [
    {
     "data": {
      "image/png": "[encoded data removed]",
      "text/plain": [
       "<matplotlib.figure.Figure at 0x21ca37d1128>"
      ]
     },
     "metadata": {},
     "output_type": "display_data"
    }
   ],
   "source": [
    "plt.figure(figsize=(21,7))\n",
    "plt.plot(yTest,label='Price',color='blue')\n",
    "plt.plot(test_pred_list,label='Predicted',color='red')\n",
    "plt.title('Price vs Predicted')\n",
    "plt.legend(loc='upper left')\n",
    "plt.show()"
   ]
  }
 ],
 "metadata": {
  "kernelspec": {
   "display_name": "Python 3",
   "language": "python",
   "name": "python3"
  },
  "language_info": {
   "codemirror_mode": {
    "name": "ipython",
    "version": 3
   },
   "file_extension": ".py",
   "mimetype": "text/x-python",
   "name": "python",
   "nbconvert_exporter": "python",
   "pygments_lexer": "ipython3",
   "version": "3.6.2"
  }
 },
 "nbformat": 4,
 "nbformat_minor": 2
}
